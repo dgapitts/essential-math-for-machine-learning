{
 "cells": [
  {
   "cell_type": "markdown",
   "metadata": {},
   "source": [
    "# Getting Started with basic maths \n",
    "## Background - Markdown github sytle and/or LaTex\n",
    "Ref:\n",
    "* https://jupyter-notebook.readthedocs.io/en/stable/examples/Notebook/Working%20With%20Markdown%20Cells.html\n",
    "* https://github.com/adam-p/markdown-here/wiki/Markdown-Cheatsheet\n",
    "\n",
    "### Markdown git style\n",
    "we can git markdown (triple backticks for code blocks)\n",
    "```python\n",
    "print \"Hello World\"\n",
    "```\n",
    "\n",
    "### we can also LaTex notation\n",
    "\n",
    "Using\n",
    "```\n",
    "\\begin{equation}\\label{eq1}\n",
    "    \\alpha + \\beta_1\n",
    "\\end{equation}\n",
    "```\n",
    "gives\n",
    "\\begin{equation}\\label{eq1}\n",
    "    \\alpha + \\beta_1\n",
    "\\end{equation}\n",
    "\n",
    "Or this amazing equation (Euler's Identity) combining e, i and pi\n",
    "```\n",
    "$e^{i.\\pi} + 1 = 0$\n",
    "```\n",
    "for \n",
    "$e^{i.\\pi} + 1 = 0$\n",
    "\n",
    "Next adding summing and sequences notations\n",
    "```\n",
    "$$e^x=\\sum_{i=0}^\\infty \\frac{1}{i!}x^i$$\n",
    "```\n",
    "for \n",
    "$$e^x=\\sum_{i=0}^\\infty \\frac{1}{i!}x^i$$\n",
    "\n"
   ]
  },
  {
   "cell_type": "markdown",
   "metadata": {},
   "source": [
    "## Assignment and logical equals\n",
    "x=1\n",
    "\n",
    "y=2\n",
    "\n",
    "x+y==3 \n",
    "**true** or false?\n",
    "\n",
    "x+y==4 \n",
    "true or **false**?"
   ]
  },
  {
   "cell_type": "code",
   "execution_count": 3,
   "metadata": {},
   "outputs": [
    {
     "data": {
      "text/plain": [
       "True"
      ]
     },
     "execution_count": 3,
     "metadata": {},
     "output_type": "execute_result"
    }
   ],
   "source": [
    "x=1\n",
    "y=2\n",
    "x+y==3"
   ]
  },
  {
   "cell_type": "code",
   "execution_count": 6,
   "metadata": {},
   "outputs": [
    {
     "data": {
      "text/plain": [
       "False"
      ]
     },
     "execution_count": 6,
     "metadata": {},
     "output_type": "execute_result"
    }
   ],
   "source": [
    "x+y==4"
   ]
  },
  {
   "cell_type": "markdown",
   "metadata": {},
   "source": []
  },
  {
   "cell_type": "code",
   "execution_count": null,
   "metadata": {},
   "outputs": [],
   "source": []
  }
 ],
 "metadata": {
  "kernelspec": {
   "display_name": "Python 3",
   "language": "python",
   "name": "python3"
  },
  "language_info": {
   "codemirror_mode": {
    "name": "ipython",
    "version": 3
   },
   "file_extension": ".py",
   "mimetype": "text/x-python",
   "name": "python",
   "nbconvert_exporter": "python",
   "pygments_lexer": "ipython3",
   "version": "3.7.4"
  }
 },
 "nbformat": 4,
 "nbformat_minor": 2
}
